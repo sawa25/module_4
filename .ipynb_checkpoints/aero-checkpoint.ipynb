{
 "cells": [
  {
   "cell_type": "code",
   "execution_count": 33,
   "metadata": {},
   "outputs": [],
   "source": [
    "from datetime import datetime, timedelta\n",
    "import math\n",
    "import numpy as np  # linear algebra_\n",
    "import pandas as pd  # data processing, CSV file I/O (e.g. pd.read_csv)\n",
    "\n",
    "import matplotlib.pyplot as plt\n",
    "import seaborn as sns\n",
    "%matplotlib inline"
   ]
  },
  {
   "cell_type": "markdown",
   "metadata": {},
   "source": [
    "--################################\n",
    "--################################\n",
    "--данный SQL код подготавливает датасет aero.csv для Юпитернотбука\n",
    "SELECT count(s.seat_no) count_seats,a.aircraft_code\n",
    "FROM dst_project.seats s \n",
    "join dst_project.aircrafts a on s.aircraft_code=a.aircraft_code\n",
    "group by a.aircraft_code\n",
    "),\n",
    "mainds as (\n",
    "SELECT *,f.scheduled_arrival-f.scheduled_departure dt\n",
    "FROM dst_project.flights f\n",
    "WHERE departure_airport = 'AAQ'\n",
    "  AND (date_trunc('month', scheduled_departure) in ('2017-01-01','2017-02-01', '2017-12-01'))\n",
    "  AND status not in ('Cancelled')\n",
    "--limit 20\n",
    ")\n",
    "select mainds.flight_id, mainds.flight_no,\n",
    "sum(coalesce(tf.amount,0))/(date_part('hour',mainds.dt)*60+date_part('minute',mainds.dt)) flight_minute_profit,\n",
    "sum(coalesce(tf.amount,0)) money_collected,\n",
    "mainds.arrival_airport, \n",
    "EXTRACT(DOW FROM mainds.scheduled_departure),\n",
    "mainds.scheduled_departure,\n",
    "count(tf.ticket_no)*100/aircraft_seats_count.count_seats occupancy,\n",
    "date_part('hour',mainds.dt)*60+date_part('minute',mainds.dt) flight_duaration, \n",
    "count(tf.ticket_no) count_seats_sold,\n",
    "aircraft_seats_count.count_seats count_seats_total\n",
    "from mainds\n",
    "left join dst_project.ticket_flights tf on tf.flight_id=mainds.flight_id\n",
    "left join aircraft_seats_count on aircraft_seats_count.aircraft_code=mainds.aircraft_code\n",
    "group by mainds.flight_id, mainds.flight_no,mainds.scheduled_departure,mainds.dt,\n",
    "mainds.arrival_airport,aircraft_seats_count.count_seats\n",
    "order by 3 desc\n",
    "--################################\n",
    "--################################\n"
   ]
  },
  {
   "cell_type": "code",
   "execution_count": 77,
   "metadata": {},
   "outputs": [
    {
     "data": {
      "text/plain": [
       "71     2017-01-01T09:25:00Z\n",
       "44     2017-01-01T10:05:00Z\n",
       "107    2017-01-02T09:25:00Z\n",
       "37     2017-01-02T10:05:00Z\n",
       "121    2017-01-03T06:10:00Z\n",
       "               ...         \n",
       "56     2017-02-27T09:25:00Z\n",
       "40     2017-02-27T10:05:00Z\n",
       "120    2017-02-28T06:10:00Z\n",
       "115    2017-02-28T09:25:00Z\n",
       "26     2017-02-28T10:05:00Z\n",
       "Name: scheduled_departure, Length: 127, dtype: object"
      ]
     },
     "execution_count": 77,
     "metadata": {},
     "output_type": "execute_result"
    }
   ],
   "source": [
    "dff = pd.read_csv('aero.csv')\n",
    "dff['scheduled_departure'].sort_values()\n",
    "# хоть мы рассматриваем зиму, за декабрь 2017 года данных в базе нет. остается только январь и февраль 2017"
   ]
  },
  {
   "cell_type": "code",
   "execution_count": 35,
   "metadata": {},
   "outputs": [
    {
     "name": "stdout",
     "output_type": "stream",
     "text": [
      "<class 'pandas.core.frame.DataFrame'>\n",
      "RangeIndex: 127 entries, 0 to 126\n",
      "Data columns (total 11 columns):\n",
      " #   Column                Non-Null Count  Dtype  \n",
      "---  ------                --------------  -----  \n",
      " 0   flight_id             127 non-null    int64  \n",
      " 1   flight_no             127 non-null    object \n",
      " 2   flight_minute_profit  127 non-null    float64\n",
      " 3   money_collected       127 non-null    float64\n",
      " 4   arrival_airport       127 non-null    object \n",
      " 5   date_part             127 non-null    float64\n",
      " 6   scheduled_departure   127 non-null    object \n",
      " 7   occupancy             127 non-null    int64  \n",
      " 8   flight_duaration      127 non-null    float64\n",
      " 9   count_seats_sold      127 non-null    int64  \n",
      " 10  count_seats_total     127 non-null    int64  \n",
      "dtypes: float64(4), int64(4), object(3)\n",
      "memory usage: 11.0+ KB\n"
     ]
    }
   ],
   "source": [
    "dff.info()"
   ]
  },
  {
   "cell_type": "code",
   "execution_count": 92,
   "metadata": {},
   "outputs": [
    {
     "data": {
      "text/html": [
       "<div>\n",
       "<style scoped>\n",
       "    .dataframe tbody tr th:only-of-type {\n",
       "        vertical-align: middle;\n",
       "    }\n",
       "\n",
       "    .dataframe tbody tr th {\n",
       "        vertical-align: top;\n",
       "    }\n",
       "\n",
       "    .dataframe thead th {\n",
       "        text-align: right;\n",
       "    }\n",
       "</style>\n",
       "<table border=\"1\" class=\"dataframe\">\n",
       "  <thead>\n",
       "    <tr style=\"text-align: right;\">\n",
       "      <th></th>\n",
       "      <th>flight_id</th>\n",
       "      <th>flight_no</th>\n",
       "      <th>flight_minute_profit</th>\n",
       "      <th>money_collected</th>\n",
       "      <th>arrival_airport</th>\n",
       "      <th>date_part</th>\n",
       "      <th>scheduled_departure</th>\n",
       "      <th>occupancy</th>\n",
       "      <th>flight_duaration</th>\n",
       "      <th>count_seats_sold</th>\n",
       "      <th>count_seats_total</th>\n",
       "    </tr>\n",
       "  </thead>\n",
       "  <tbody>\n",
       "    <tr>\n",
       "      <th>87</th>\n",
       "      <td>136360</td>\n",
       "      <td>PG0252</td>\n",
       "      <td>14554.0</td>\n",
       "      <td>1455400.0</td>\n",
       "      <td>SVO</td>\n",
       "      <td>0.0</td>\n",
       "      <td>2017-02-05T10:05:00Z</td>\n",
       "      <td>74</td>\n",
       "      <td>100.0</td>\n",
       "      <td>97</td>\n",
       "      <td>130</td>\n",
       "    </tr>\n",
       "    <tr>\n",
       "      <th>99</th>\n",
       "      <td>136709</td>\n",
       "      <td>PG0480</td>\n",
       "      <td>13794.0</td>\n",
       "      <td>689700.0</td>\n",
       "      <td>EGO</td>\n",
       "      <td>0.0</td>\n",
       "      <td>2017-01-15T09:25:00Z</td>\n",
       "      <td>89</td>\n",
       "      <td>50.0</td>\n",
       "      <td>87</td>\n",
       "      <td>97</td>\n",
       "    </tr>\n",
       "    <tr>\n",
       "      <th>8</th>\n",
       "      <td>136436</td>\n",
       "      <td>PG0252</td>\n",
       "      <td>18116.0</td>\n",
       "      <td>1811600.0</td>\n",
       "      <td>SVO</td>\n",
       "      <td>4.0</td>\n",
       "      <td>2017-01-26T10:05:00Z</td>\n",
       "      <td>95</td>\n",
       "      <td>100.0</td>\n",
       "      <td>124</td>\n",
       "      <td>130</td>\n",
       "    </tr>\n",
       "    <tr>\n",
       "      <th>56</th>\n",
       "      <td>136953</td>\n",
       "      <td>PG0480</td>\n",
       "      <td>15306.0</td>\n",
       "      <td>765300.0</td>\n",
       "      <td>EGO</td>\n",
       "      <td>1.0</td>\n",
       "      <td>2017-02-27T09:25:00Z</td>\n",
       "      <td>100</td>\n",
       "      <td>50.0</td>\n",
       "      <td>97</td>\n",
       "      <td>97</td>\n",
       "    </tr>\n",
       "    <tr>\n",
       "      <th>75</th>\n",
       "      <td>136720</td>\n",
       "      <td>PG0480</td>\n",
       "      <td>15054.0</td>\n",
       "      <td>752700.0</td>\n",
       "      <td>EGO</td>\n",
       "      <td>4.0</td>\n",
       "      <td>2017-01-26T09:25:00Z</td>\n",
       "      <td>97</td>\n",
       "      <td>50.0</td>\n",
       "      <td>95</td>\n",
       "      <td>97</td>\n",
       "    </tr>\n",
       "  </tbody>\n",
       "</table>\n",
       "</div>"
      ],
      "text/plain": [
       "    flight_id flight_no  flight_minute_profit  money_collected  \\\n",
       "87     136360    PG0252               14554.0        1455400.0   \n",
       "99     136709    PG0480               13794.0         689700.0   \n",
       "8      136436    PG0252               18116.0        1811600.0   \n",
       "56     136953    PG0480               15306.0         765300.0   \n",
       "75     136720    PG0480               15054.0         752700.0   \n",
       "\n",
       "   arrival_airport  date_part   scheduled_departure  occupancy  \\\n",
       "87             SVO        0.0  2017-02-05T10:05:00Z         74   \n",
       "99             EGO        0.0  2017-01-15T09:25:00Z         89   \n",
       "8              SVO        4.0  2017-01-26T10:05:00Z         95   \n",
       "56             EGO        1.0  2017-02-27T09:25:00Z        100   \n",
       "75             EGO        4.0  2017-01-26T09:25:00Z         97   \n",
       "\n",
       "    flight_duaration  count_seats_sold  count_seats_total  \n",
       "87             100.0                97                130  \n",
       "99              50.0                87                 97  \n",
       "8              100.0               124                130  \n",
       "56              50.0                97                 97  \n",
       "75              50.0                95                 97  "
      ]
     },
     "execution_count": 92,
     "metadata": {},
     "output_type": "execute_result"
    }
   ],
   "source": [
    "dff.sample(5)\n",
    "# при подготовке датасета с помощью sql запроса добавленны новые поля:\n",
    "\n",
    "# flight_minute_profit=money_collected/flight_duaration - условная единица удельной прибыльности одной минуты полета, равная выручек от рейса делить на длительность рейса\n",
    "# money_collected - сумма за полет (суммирование стоимости проданных билетов за рейс)\n",
    "# date_part - день недели\n",
    "# occupancy =count_seats_sold/count_seats_total- заполняемость самолета в рейсе (количество проданных мест делить на количество мест в данном самолете)\n",
    "# flight_duaration - длительность рейса в минутах\n",
    "# count_seats_sold - количество проданных мест  на рейс\n",
    "# count_seats_total -количество мест в данном самолете"
   ]
  },
  {
   "cell_type": "code",
   "execution_count": 39,
   "metadata": {},
   "outputs": [
    {
     "data": {
      "image/png": "[encoded data removed]",
      "text/plain": [
       "<Figure size 432x288 with 1 Axes>"
      ]
     },
     "metadata": {
      "needs_background": "light"
     },
     "output_type": "display_data"
    }
   ],
   "source": [
    "fl = dff.groupby(['flight_no'])[['money_collected']].sum().plot(kind='barh')\n",
    "# сопоставление общей прибыли от полетов трех рейсов, вылетающих из Анапы"
   ]
  },
  {
   "cell_type": "code",
   "execution_count": 38,
   "metadata": {},
   "outputs": [
    {
     "data": {
      "text/html": [
       "<div>\n",
       "<style scoped>\n",
       "    .dataframe tbody tr th:only-of-type {\n",
       "        vertical-align: middle;\n",
       "    }\n",
       "\n",
       "    .dataframe tbody tr th {\n",
       "        vertical-align: top;\n",
       "    }\n",
       "\n",
       "    .dataframe thead th {\n",
       "        text-align: right;\n",
       "    }\n",
       "</style>\n",
       "<table border=\"1\" class=\"dataframe\">\n",
       "  <thead>\n",
       "    <tr style=\"text-align: right;\">\n",
       "      <th></th>\n",
       "      <th>flight_id</th>\n",
       "      <th>flight_no</th>\n",
       "      <th>flight_minute_profit</th>\n",
       "      <th>money_collected</th>\n",
       "      <th>arrival_airport</th>\n",
       "      <th>date_part</th>\n",
       "      <th>scheduled_departure</th>\n",
       "      <th>occupancy</th>\n",
       "      <th>flight_duaration</th>\n",
       "      <th>count_seats_sold</th>\n",
       "      <th>count_seats_total</th>\n",
       "    </tr>\n",
       "  </thead>\n",
       "  <tbody>\n",
       "    <tr>\n",
       "      <th>118</th>\n",
       "      <td>136560</td>\n",
       "      <td>PG0194</td>\n",
       "      <td>0.0</td>\n",
       "      <td>0.0</td>\n",
       "      <td>NOZ</td>\n",
       "      <td>2.0</td>\n",
       "      <td>2017-01-24T06:10:00Z</td>\n",
       "      <td>0</td>\n",
       "      <td>305.0</td>\n",
       "      <td>0</td>\n",
       "      <td>130</td>\n",
       "    </tr>\n",
       "    <tr>\n",
       "      <th>119</th>\n",
       "      <td>136567</td>\n",
       "      <td>PG0194</td>\n",
       "      <td>0.0</td>\n",
       "      <td>0.0</td>\n",
       "      <td>NOZ</td>\n",
       "      <td>2.0</td>\n",
       "      <td>2017-02-14T06:10:00Z</td>\n",
       "      <td>0</td>\n",
       "      <td>305.0</td>\n",
       "      <td>0</td>\n",
       "      <td>130</td>\n",
       "    </tr>\n",
       "    <tr>\n",
       "      <th>120</th>\n",
       "      <td>136513</td>\n",
       "      <td>PG0194</td>\n",
       "      <td>0.0</td>\n",
       "      <td>0.0</td>\n",
       "      <td>NOZ</td>\n",
       "      <td>2.0</td>\n",
       "      <td>2017-02-28T06:10:00Z</td>\n",
       "      <td>0</td>\n",
       "      <td>305.0</td>\n",
       "      <td>0</td>\n",
       "      <td>130</td>\n",
       "    </tr>\n",
       "    <tr>\n",
       "      <th>121</th>\n",
       "      <td>136546</td>\n",
       "      <td>PG0194</td>\n",
       "      <td>0.0</td>\n",
       "      <td>0.0</td>\n",
       "      <td>NOZ</td>\n",
       "      <td>2.0</td>\n",
       "      <td>2017-01-03T06:10:00Z</td>\n",
       "      <td>0</td>\n",
       "      <td>305.0</td>\n",
       "      <td>0</td>\n",
       "      <td>130</td>\n",
       "    </tr>\n",
       "    <tr>\n",
       "      <th>122</th>\n",
       "      <td>136514</td>\n",
       "      <td>PG0194</td>\n",
       "      <td>0.0</td>\n",
       "      <td>0.0</td>\n",
       "      <td>NOZ</td>\n",
       "      <td>2.0</td>\n",
       "      <td>2017-02-07T06:10:00Z</td>\n",
       "      <td>0</td>\n",
       "      <td>305.0</td>\n",
       "      <td>0</td>\n",
       "      <td>130</td>\n",
       "    </tr>\n",
       "    <tr>\n",
       "      <th>123</th>\n",
       "      <td>136544</td>\n",
       "      <td>PG0194</td>\n",
       "      <td>0.0</td>\n",
       "      <td>0.0</td>\n",
       "      <td>NOZ</td>\n",
       "      <td>2.0</td>\n",
       "      <td>2017-01-31T06:10:00Z</td>\n",
       "      <td>0</td>\n",
       "      <td>305.0</td>\n",
       "      <td>0</td>\n",
       "      <td>130</td>\n",
       "    </tr>\n",
       "    <tr>\n",
       "      <th>124</th>\n",
       "      <td>136523</td>\n",
       "      <td>PG0194</td>\n",
       "      <td>0.0</td>\n",
       "      <td>0.0</td>\n",
       "      <td>NOZ</td>\n",
       "      <td>2.0</td>\n",
       "      <td>2017-01-10T06:10:00Z</td>\n",
       "      <td>0</td>\n",
       "      <td>305.0</td>\n",
       "      <td>0</td>\n",
       "      <td>130</td>\n",
       "    </tr>\n",
       "    <tr>\n",
       "      <th>125</th>\n",
       "      <td>136540</td>\n",
       "      <td>PG0194</td>\n",
       "      <td>0.0</td>\n",
       "      <td>0.0</td>\n",
       "      <td>NOZ</td>\n",
       "      <td>2.0</td>\n",
       "      <td>2017-01-17T06:10:00Z</td>\n",
       "      <td>0</td>\n",
       "      <td>305.0</td>\n",
       "      <td>0</td>\n",
       "      <td>130</td>\n",
       "    </tr>\n",
       "    <tr>\n",
       "      <th>126</th>\n",
       "      <td>136511</td>\n",
       "      <td>PG0194</td>\n",
       "      <td>0.0</td>\n",
       "      <td>0.0</td>\n",
       "      <td>NOZ</td>\n",
       "      <td>2.0</td>\n",
       "      <td>2017-02-21T06:10:00Z</td>\n",
       "      <td>0</td>\n",
       "      <td>305.0</td>\n",
       "      <td>0</td>\n",
       "      <td>130</td>\n",
       "    </tr>\n",
       "  </tbody>\n",
       "</table>\n",
       "</div>"
      ],
      "text/plain": [
       "     flight_id flight_no  flight_minute_profit  money_collected  \\\n",
       "118     136560    PG0194                   0.0              0.0   \n",
       "119     136567    PG0194                   0.0              0.0   \n",
       "120     136513    PG0194                   0.0              0.0   \n",
       "121     136546    PG0194                   0.0              0.0   \n",
       "122     136514    PG0194                   0.0              0.0   \n",
       "123     136544    PG0194                   0.0              0.0   \n",
       "124     136523    PG0194                   0.0              0.0   \n",
       "125     136540    PG0194                   0.0              0.0   \n",
       "126     136511    PG0194                   0.0              0.0   \n",
       "\n",
       "    arrival_airport  date_part   scheduled_departure  occupancy  \\\n",
       "118             NOZ        2.0  2017-01-24T06:10:00Z          0   \n",
       "119             NOZ        2.0  2017-02-14T06:10:00Z          0   \n",
       "120             NOZ        2.0  2017-02-28T06:10:00Z          0   \n",
       "121             NOZ        2.0  2017-01-03T06:10:00Z          0   \n",
       "122             NOZ        2.0  2017-02-07T06:10:00Z          0   \n",
       "123             NOZ        2.0  2017-01-31T06:10:00Z          0   \n",
       "124             NOZ        2.0  2017-01-10T06:10:00Z          0   \n",
       "125             NOZ        2.0  2017-01-17T06:10:00Z          0   \n",
       "126             NOZ        2.0  2017-02-21T06:10:00Z          0   \n",
       "\n",
       "     flight_duaration  count_seats_sold  count_seats_total  \n",
       "118             305.0                 0                130  \n",
       "119             305.0                 0                130  \n",
       "120             305.0                 0                130  \n",
       "121             305.0                 0                130  \n",
       "122             305.0                 0                130  \n",
       "123             305.0                 0                130  \n",
       "124             305.0                 0                130  \n",
       "125             305.0                 0                130  \n",
       "126             305.0                 0                130  "
      ]
     },
     "execution_count": 38,
     "metadata": {},
     "output_type": "execute_result"
    }
   ],
   "source": [
    "# или выбросы, или абсолютно невыгодный рейс без пассажиров\n",
    "dff[dff.flight_no == 'PG0194']"
   ]
  },
  {
   "cell_type": "code",
   "execution_count": 7,
   "metadata": {},
   "outputs": [
    {
     "data": {
      "text/html": [
       "<div>\n",
       "<style scoped>\n",
       "    .dataframe tbody tr th:only-of-type {\n",
       "        vertical-align: middle;\n",
       "    }\n",
       "\n",
       "    .dataframe tbody tr th {\n",
       "        vertical-align: top;\n",
       "    }\n",
       "\n",
       "    .dataframe thead th {\n",
       "        text-align: right;\n",
       "    }\n",
       "</style>\n",
       "<table border=\"1\" class=\"dataframe\">\n",
       "  <thead>\n",
       "    <tr style=\"text-align: right;\">\n",
       "      <th></th>\n",
       "      <th>flight_id</th>\n",
       "      <th>flight_no</th>\n",
       "      <th>flight_minute_profit</th>\n",
       "      <th>money_collected</th>\n",
       "      <th>arrival_airport</th>\n",
       "      <th>date_part</th>\n",
       "      <th>scheduled_departure</th>\n",
       "      <th>occupancy</th>\n",
       "      <th>flight_duaration</th>\n",
       "      <th>count_seats_sold</th>\n",
       "      <th>count_seats_total</th>\n",
       "    </tr>\n",
       "  </thead>\n",
       "  <tbody>\n",
       "    <tr>\n",
       "      <th>0</th>\n",
       "      <td>136226</td>\n",
       "      <td>PG0252</td>\n",
       "      <td>18860.0</td>\n",
       "      <td>1886000.0</td>\n",
       "      <td>SVO</td>\n",
       "      <td>1.0</td>\n",
       "      <td>2017-01-30T10:05:00Z</td>\n",
       "      <td>100</td>\n",
       "      <td>100.0</td>\n",
       "      <td>130</td>\n",
       "      <td>130</td>\n",
       "    </tr>\n",
       "    <tr>\n",
       "      <th>1</th>\n",
       "      <td>136316</td>\n",
       "      <td>PG0252</td>\n",
       "      <td>18860.0</td>\n",
       "      <td>1886000.0</td>\n",
       "      <td>SVO</td>\n",
       "      <td>4.0</td>\n",
       "      <td>2017-01-12T10:05:00Z</td>\n",
       "      <td>100</td>\n",
       "      <td>100.0</td>\n",
       "      <td>130</td>\n",
       "      <td>130</td>\n",
       "    </tr>\n",
       "    <tr>\n",
       "      <th>2</th>\n",
       "      <td>136403</td>\n",
       "      <td>PG0252</td>\n",
       "      <td>18738.0</td>\n",
       "      <td>1873800.0</td>\n",
       "      <td>SVO</td>\n",
       "      <td>1.0</td>\n",
       "      <td>2017-02-20T10:05:00Z</td>\n",
       "      <td>99</td>\n",
       "      <td>100.0</td>\n",
       "      <td>129</td>\n",
       "      <td>130</td>\n",
       "    </tr>\n",
       "    <tr>\n",
       "      <th>3</th>\n",
       "      <td>136389</td>\n",
       "      <td>PG0252</td>\n",
       "      <td>18738.0</td>\n",
       "      <td>1873800.0</td>\n",
       "      <td>SVO</td>\n",
       "      <td>3.0</td>\n",
       "      <td>2017-01-18T10:05:00Z</td>\n",
       "      <td>99</td>\n",
       "      <td>100.0</td>\n",
       "      <td>129</td>\n",
       "      <td>130</td>\n",
       "    </tr>\n",
       "    <tr>\n",
       "      <th>4</th>\n",
       "      <td>136423</td>\n",
       "      <td>PG0252</td>\n",
       "      <td>18494.0</td>\n",
       "      <td>1849400.0</td>\n",
       "      <td>SVO</td>\n",
       "      <td>2.0</td>\n",
       "      <td>2017-01-10T10:05:00Z</td>\n",
       "      <td>99</td>\n",
       "      <td>100.0</td>\n",
       "      <td>129</td>\n",
       "      <td>130</td>\n",
       "    </tr>\n",
       "    <tr>\n",
       "      <th>...</th>\n",
       "      <td>...</td>\n",
       "      <td>...</td>\n",
       "      <td>...</td>\n",
       "      <td>...</td>\n",
       "      <td>...</td>\n",
       "      <td>...</td>\n",
       "      <td>...</td>\n",
       "      <td>...</td>\n",
       "      <td>...</td>\n",
       "      <td>...</td>\n",
       "      <td>...</td>\n",
       "    </tr>\n",
       "    <tr>\n",
       "      <th>113</th>\n",
       "      <td>136922</td>\n",
       "      <td>PG0480</td>\n",
       "      <td>12156.0</td>\n",
       "      <td>607800.0</td>\n",
       "      <td>EGO</td>\n",
       "      <td>6.0</td>\n",
       "      <td>2017-02-11T09:25:00Z</td>\n",
       "      <td>78</td>\n",
       "      <td>50.0</td>\n",
       "      <td>76</td>\n",
       "      <td>97</td>\n",
       "    </tr>\n",
       "    <tr>\n",
       "      <th>114</th>\n",
       "      <td>136887</td>\n",
       "      <td>PG0480</td>\n",
       "      <td>11904.0</td>\n",
       "      <td>595200.0</td>\n",
       "      <td>EGO</td>\n",
       "      <td>5.0</td>\n",
       "      <td>2017-01-20T09:25:00Z</td>\n",
       "      <td>80</td>\n",
       "      <td>50.0</td>\n",
       "      <td>78</td>\n",
       "      <td>97</td>\n",
       "    </tr>\n",
       "    <tr>\n",
       "      <th>115</th>\n",
       "      <td>136844</td>\n",
       "      <td>PG0480</td>\n",
       "      <td>11502.0</td>\n",
       "      <td>575100.0</td>\n",
       "      <td>EGO</td>\n",
       "      <td>2.0</td>\n",
       "      <td>2017-02-28T09:25:00Z</td>\n",
       "      <td>81</td>\n",
       "      <td>50.0</td>\n",
       "      <td>79</td>\n",
       "      <td>97</td>\n",
       "    </tr>\n",
       "    <tr>\n",
       "      <th>116</th>\n",
       "      <td>136642</td>\n",
       "      <td>PG0480</td>\n",
       "      <td>10620.0</td>\n",
       "      <td>531000.0</td>\n",
       "      <td>EGO</td>\n",
       "      <td>1.0</td>\n",
       "      <td>2017-01-30T09:25:00Z</td>\n",
       "      <td>65</td>\n",
       "      <td>50.0</td>\n",
       "      <td>64</td>\n",
       "      <td>97</td>\n",
       "    </tr>\n",
       "    <tr>\n",
       "      <th>117</th>\n",
       "      <td>136807</td>\n",
       "      <td>PG0480</td>\n",
       "      <td>10620.0</td>\n",
       "      <td>531000.0</td>\n",
       "      <td>EGO</td>\n",
       "      <td>4.0</td>\n",
       "      <td>2017-02-23T09:25:00Z</td>\n",
       "      <td>70</td>\n",
       "      <td>50.0</td>\n",
       "      <td>68</td>\n",
       "      <td>97</td>\n",
       "    </tr>\n",
       "  </tbody>\n",
       "</table>\n",
       "<p>118 rows × 11 columns</p>\n",
       "</div>"
      ],
      "text/plain": [
       "     flight_id flight_no  flight_minute_profit  money_collected  \\\n",
       "0       136226    PG0252               18860.0        1886000.0   \n",
       "1       136316    PG0252               18860.0        1886000.0   \n",
       "2       136403    PG0252               18738.0        1873800.0   \n",
       "3       136389    PG0252               18738.0        1873800.0   \n",
       "4       136423    PG0252               18494.0        1849400.0   \n",
       "..         ...       ...                   ...              ...   \n",
       "113     136922    PG0480               12156.0         607800.0   \n",
       "114     136887    PG0480               11904.0         595200.0   \n",
       "115     136844    PG0480               11502.0         575100.0   \n",
       "116     136642    PG0480               10620.0         531000.0   \n",
       "117     136807    PG0480               10620.0         531000.0   \n",
       "\n",
       "    arrival_airport  date_part   scheduled_departure  occupancy  \\\n",
       "0               SVO        1.0  2017-01-30T10:05:00Z        100   \n",
       "1               SVO        4.0  2017-01-12T10:05:00Z        100   \n",
       "2               SVO        1.0  2017-02-20T10:05:00Z         99   \n",
       "3               SVO        3.0  2017-01-18T10:05:00Z         99   \n",
       "4               SVO        2.0  2017-01-10T10:05:00Z         99   \n",
       "..              ...        ...                   ...        ...   \n",
       "113             EGO        6.0  2017-02-11T09:25:00Z         78   \n",
       "114             EGO        5.0  2017-01-20T09:25:00Z         80   \n",
       "115             EGO        2.0  2017-02-28T09:25:00Z         81   \n",
       "116             EGO        1.0  2017-01-30T09:25:00Z         65   \n",
       "117             EGO        4.0  2017-02-23T09:25:00Z         70   \n",
       "\n",
       "     flight_duaration  count_seats_sold  count_seats_total  \n",
       "0               100.0               130                130  \n",
       "1               100.0               130                130  \n",
       "2               100.0               129                130  \n",
       "3               100.0               129                130  \n",
       "4               100.0               129                130  \n",
       "..                ...               ...                ...  \n",
       "113              50.0                76                 97  \n",
       "114              50.0                78                 97  \n",
       "115              50.0                79                 97  \n",
       "116              50.0                64                 97  \n",
       "117              50.0                68                 97  \n",
       "\n",
       "[118 rows x 11 columns]"
      ]
     },
     "execution_count": 7,
     "metadata": {},
     "output_type": "execute_result"
    }
   ],
   "source": [
    "df = dff[dff.flight_no != 'PG0194']  # удалить данные по рейсу PG0194\n",
    "df"
   ]
  },
  {
   "cell_type": "code",
   "execution_count": 9,
   "metadata": {},
   "outputs": [
    {
     "data": {
      "text/plain": [
       "PG0480    59\n",
       "PG0252    59\n",
       "Name: flight_no, dtype: int64"
      ]
     },
     "metadata": {},
     "output_type": "display_data"
    }
   ],
   "source": [
    "fl = df['flight_no'].value_counts()\n",
    "display(fl)"
   ]
  },
  {
   "cell_type": "code",
   "execution_count": 20,
   "metadata": {},
   "outputs": [
    {
     "data": {
      "text/plain": [
       "<AxesSubplot:>"
      ]
     },
     "execution_count": 20,
     "metadata": {},
     "output_type": "execute_result"
    },
    {
     "data": {
      "image/png": "[encoded data removed]",
      "text/plain": [
       "<Figure size 720x504 with 1 Axes>"
      ]
     },
     "metadata": {
      "needs_background": "light"
     },
     "output_type": "display_data"
    }
   ],
   "source": [
    "df['flight_no'].value_counts(ascending=True).plot(kind='barh')\n",
    "#количество вылетов одинаковое"
   ]
  },
  {
   "cell_type": "code",
   "execution_count": 31,
   "metadata": {},
   "outputs": [
    {
     "data": {
      "text/plain": [
       "(16420.0, 16908.0]      10\n",
       "(14956.0, 15444.0]       8\n",
       "(15932.0, 16420.0]       7\n",
       "(15444.0, 15932.0]       7\n",
       "(18372.0, 18860.0]       5\n",
       "(17884.0, 18372.0]       5\n",
       "(16908.0, 17396.0]       5\n",
       "(17396.0, 17884.0]       4\n",
       "(14468.0, 14956.0]       4\n",
       "(13975.119, 14468.0]     4\n",
       "Name: flight_minute_profit, dtype: int64"
      ]
     },
     "metadata": {},
     "output_type": "display_data"
    }
   ],
   "source": [
    "# анализ прибыльности минуты полета раздельно для двух рейсов (третий рейс PG0194 выбросили из рассмотрения - пассажиров нет или ошибка в базе)\n",
    "fl = df[df.flight_no == 'PG0252']['flight_minute_profit'].value_counts(bins=10)\n",
    "display(fl)"
   ]
  },
  {
   "cell_type": "code",
   "execution_count": 29,
   "metadata": {},
   "outputs": [
    {
     "data": {
      "text/plain": [
       "<AxesSubplot:>"
      ]
     },
     "execution_count": 29,
     "metadata": {},
     "output_type": "execute_result"
    },
    {
     "data": {
      "image/png": "[encoded data removed]",
      "text/plain": [
       "<Figure size 432x288 with 1 Axes>"
      ]
     },
     "metadata": {
      "needs_background": "light"
     },
     "output_type": "display_data"
    }
   ],
   "source": [
    "df[df.flight_no=='PG0252']['flight_minute_profit'].value_counts(bins=10,ascending=True).plot(kind='barh')"
   ]
  },
  {
   "cell_type": "code",
   "execution_count": 95,
   "metadata": {},
   "outputs": [
    {
     "data": {
      "text/plain": [
       "(11557.2, 12025.8]       1\n",
       "(11088.6, 11557.2]       1\n",
       "(10615.313, 11088.6]     2\n",
       "(14368.8, 14837.4]       3\n",
       "(13431.6, 13900.2]       3\n",
       "(12963.0, 13431.6]       3\n",
       "(12025.8, 12494.4]       3\n",
       "(13900.2, 14368.8]       5\n",
       "(12494.4, 12963.0]       6\n",
       "(14837.4, 15306.0]      32\n",
       "Name: flight_minute_profit, dtype: int64"
      ]
     },
     "metadata": {},
     "output_type": "display_data"
    }
   ],
   "source": [
    "fl=df[df.flight_no=='PG0480']['flight_minute_profit'].value_counts(bins=10).sort_values()\n",
    "display(fl)"
   ]
  },
  {
   "cell_type": "code",
   "execution_count": 30,
   "metadata": {},
   "outputs": [
    {
     "data": {
      "text/plain": [
       "<AxesSubplot:>"
      ]
     },
     "execution_count": 30,
     "metadata": {},
     "output_type": "execute_result"
    },
    {
     "data": {
      "image/png": "[encoded data removed]",
      "text/plain": [
       "<Figure size 432x288 with 1 Axes>"
      ]
     },
     "metadata": {
      "needs_background": "light"
     },
     "output_type": "display_data"
    }
   ],
   "source": [
    "df[df.flight_no=='PG0480']['flight_minute_profit'].value_counts(bins=10).plot(kind='barh')"
   ]
  },
  {
   "cell_type": "code",
   "execution_count": 43,
   "metadata": {},
   "outputs": [
    {
     "data": {
      "text/plain": [
       "14837.4"
      ]
     },
     "execution_count": 43,
     "metadata": {},
     "output_type": "execute_result"
    }
   ],
   "source": [
    "fl.index[0].left"
   ]
  },
  {
   "cell_type": "code",
   "execution_count": 97,
   "metadata": {},
   "outputs": [
    {
     "data": {
      "text/html": [
       "<div>\n",
       "<style scoped>\n",
       "    .dataframe tbody tr th:only-of-type {\n",
       "        vertical-align: middle;\n",
       "    }\n",
       "\n",
       "    .dataframe tbody tr th {\n",
       "        vertical-align: top;\n",
       "    }\n",
       "\n",
       "    .dataframe thead th {\n",
       "        text-align: right;\n",
       "    }\n",
       "</style>\n",
       "<table border=\"1\" class=\"dataframe\">\n",
       "  <thead>\n",
       "    <tr style=\"text-align: right;\">\n",
       "      <th></th>\n",
       "      <th>flight_id</th>\n",
       "      <th>flight_no</th>\n",
       "      <th>flight_minute_profit</th>\n",
       "      <th>money_collected</th>\n",
       "      <th>arrival_airport</th>\n",
       "      <th>date_part</th>\n",
       "      <th>scheduled_departure</th>\n",
       "      <th>occupancy</th>\n",
       "      <th>flight_duaration</th>\n",
       "      <th>count_seats_sold</th>\n",
       "      <th>count_seats_total</th>\n",
       "    </tr>\n",
       "  </thead>\n",
       "  <tbody>\n",
       "    <tr>\n",
       "      <th>116</th>\n",
       "      <td>136642</td>\n",
       "      <td>PG0480</td>\n",
       "      <td>10620.0</td>\n",
       "      <td>531000.0</td>\n",
       "      <td>EGO</td>\n",
       "      <td>1.0</td>\n",
       "      <td>2017-01-30T09:25:00Z</td>\n",
       "      <td>65</td>\n",
       "      <td>50.0</td>\n",
       "      <td>64</td>\n",
       "      <td>97</td>\n",
       "    </tr>\n",
       "    <tr>\n",
       "      <th>117</th>\n",
       "      <td>136807</td>\n",
       "      <td>PG0480</td>\n",
       "      <td>10620.0</td>\n",
       "      <td>531000.0</td>\n",
       "      <td>EGO</td>\n",
       "      <td>4.0</td>\n",
       "      <td>2017-02-23T09:25:00Z</td>\n",
       "      <td>70</td>\n",
       "      <td>50.0</td>\n",
       "      <td>68</td>\n",
       "      <td>97</td>\n",
       "    </tr>\n",
       "  </tbody>\n",
       "</table>\n",
       "</div>"
      ],
      "text/plain": [
       "     flight_id flight_no  flight_minute_profit  money_collected  \\\n",
       "116     136642    PG0480               10620.0         531000.0   \n",
       "117     136807    PG0480               10620.0         531000.0   \n",
       "\n",
       "    arrival_airport  date_part   scheduled_departure  occupancy  \\\n",
       "116             EGO        1.0  2017-01-30T09:25:00Z         65   \n",
       "117             EGO        4.0  2017-02-23T09:25:00Z         70   \n",
       "\n",
       "     flight_duaration  count_seats_sold  count_seats_total  \n",
       "116              50.0                64                 97  \n",
       "117              50.0                68                 97  "
      ]
     },
     "metadata": {},
     "output_type": "display_data"
    }
   ],
   "source": [
    "sample=df.loc[(df.flight_no=='PG0480') & (df.flight_minute_profit<11089)]\n",
    "display(sample)\n"
   ]
  },
  {
   "cell_type": "code",
   "execution_count": 82,
   "metadata": {},
   "outputs": [
    {
     "data": {
      "text/plain": [
       "<AxesSubplot:xlabel='scheduled_departure'>"
      ]
     },
     "execution_count": 82,
     "metadata": {},
     "output_type": "execute_result"
    },
    {
     "data": {
      "image/png": "[encoded data removed]",
      "text/plain": [
       "<Figure size 1440x504 with 1 Axes>"
      ]
     },
     "metadata": {
      "needs_background": "light"
     },
     "output_type": "display_data"
    }
   ],
   "source": [
    "plt.rcParams['figure.figsize'] = (20,7)\n",
    "df[df.flight_no=='PG0480'].groupby('scheduled_departure')[['flight_minute_profit']].mean().plot(kind = 'bar')\n"
   ]
  },
  {
   "cell_type": "code",
   "execution_count": 83,
   "metadata": {},
   "outputs": [
    {
     "data": {
      "text/plain": [
       "<AxesSubplot:xlabel='date_part'>"
      ]
     },
     "execution_count": 83,
     "metadata": {},
     "output_type": "execute_result"
    },
    {
     "data": {
      "image/png": "[encoded data removed]",
      "text/plain": [
       "<Figure size 1440x504 with 1 Axes>"
      ]
     },
     "metadata": {
      "needs_background": "light"
     },
     "output_type": "display_data"
    }
   ],
   "source": [
    "df[df.flight_no=='PG0480'].groupby('date_part')[['flight_minute_profit']].mean().plot(kind = 'bar')"
   ]
  },
  {
   "cell_type": "code",
   "execution_count": 98,
   "metadata": {},
   "outputs": [
    {
     "data": {
      "text/html": [
       "<div>\n",
       "<style scoped>\n",
       "    .dataframe tbody tr th:only-of-type {\n",
       "        vertical-align: middle;\n",
       "    }\n",
       "\n",
       "    .dataframe tbody tr th {\n",
       "        vertical-align: top;\n",
       "    }\n",
       "\n",
       "    .dataframe thead th {\n",
       "        text-align: right;\n",
       "    }\n",
       "</style>\n",
       "<table border=\"1\" class=\"dataframe\">\n",
       "  <thead>\n",
       "    <tr style=\"text-align: right;\">\n",
       "      <th></th>\n",
       "      <th>flight_id</th>\n",
       "      <th>flight_no</th>\n",
       "      <th>flight_minute_profit</th>\n",
       "      <th>money_collected</th>\n",
       "      <th>arrival_airport</th>\n",
       "      <th>date_part</th>\n",
       "      <th>scheduled_departure</th>\n",
       "      <th>occupancy</th>\n",
       "      <th>flight_duaration</th>\n",
       "      <th>count_seats_sold</th>\n",
       "      <th>count_seats_total</th>\n",
       "    </tr>\n",
       "  </thead>\n",
       "  <tbody>\n",
       "    <tr>\n",
       "      <th>114</th>\n",
       "      <td>136887</td>\n",
       "      <td>PG0480</td>\n",
       "      <td>11904.0</td>\n",
       "      <td>595200.0</td>\n",
       "      <td>EGO</td>\n",
       "      <td>5.0</td>\n",
       "      <td>2017-01-20T09:25:00Z</td>\n",
       "      <td>80</td>\n",
       "      <td>50.0</td>\n",
       "      <td>78</td>\n",
       "      <td>97</td>\n",
       "    </tr>\n",
       "    <tr>\n",
       "      <th>116</th>\n",
       "      <td>136642</td>\n",
       "      <td>PG0480</td>\n",
       "      <td>10620.0</td>\n",
       "      <td>531000.0</td>\n",
       "      <td>EGO</td>\n",
       "      <td>1.0</td>\n",
       "      <td>2017-01-30T09:25:00Z</td>\n",
       "      <td>65</td>\n",
       "      <td>50.0</td>\n",
       "      <td>64</td>\n",
       "      <td>97</td>\n",
       "    </tr>\n",
       "    <tr>\n",
       "      <th>111</th>\n",
       "      <td>136823</td>\n",
       "      <td>PG0480</td>\n",
       "      <td>12408.0</td>\n",
       "      <td>620400.0</td>\n",
       "      <td>EGO</td>\n",
       "      <td>0.0</td>\n",
       "      <td>2017-02-05T09:25:00Z</td>\n",
       "      <td>80</td>\n",
       "      <td>50.0</td>\n",
       "      <td>78</td>\n",
       "      <td>97</td>\n",
       "    </tr>\n",
       "    <tr>\n",
       "      <th>113</th>\n",
       "      <td>136922</td>\n",
       "      <td>PG0480</td>\n",
       "      <td>12156.0</td>\n",
       "      <td>607800.0</td>\n",
       "      <td>EGO</td>\n",
       "      <td>6.0</td>\n",
       "      <td>2017-02-11T09:25:00Z</td>\n",
       "      <td>78</td>\n",
       "      <td>50.0</td>\n",
       "      <td>76</td>\n",
       "      <td>97</td>\n",
       "    </tr>\n",
       "    <tr>\n",
       "      <th>109</th>\n",
       "      <td>136888</td>\n",
       "      <td>PG0480</td>\n",
       "      <td>12522.0</td>\n",
       "      <td>626100.0</td>\n",
       "      <td>EGO</td>\n",
       "      <td>2.0</td>\n",
       "      <td>2017-02-14T09:25:00Z</td>\n",
       "      <td>81</td>\n",
       "      <td>50.0</td>\n",
       "      <td>79</td>\n",
       "      <td>97</td>\n",
       "    </tr>\n",
       "    <tr>\n",
       "      <th>112</th>\n",
       "      <td>136620</td>\n",
       "      <td>PG0480</td>\n",
       "      <td>12270.0</td>\n",
       "      <td>613500.0</td>\n",
       "      <td>EGO</td>\n",
       "      <td>5.0</td>\n",
       "      <td>2017-02-17T09:25:00Z</td>\n",
       "      <td>81</td>\n",
       "      <td>50.0</td>\n",
       "      <td>79</td>\n",
       "      <td>97</td>\n",
       "    </tr>\n",
       "    <tr>\n",
       "      <th>117</th>\n",
       "      <td>136807</td>\n",
       "      <td>PG0480</td>\n",
       "      <td>10620.0</td>\n",
       "      <td>531000.0</td>\n",
       "      <td>EGO</td>\n",
       "      <td>4.0</td>\n",
       "      <td>2017-02-23T09:25:00Z</td>\n",
       "      <td>70</td>\n",
       "      <td>50.0</td>\n",
       "      <td>68</td>\n",
       "      <td>97</td>\n",
       "    </tr>\n",
       "    <tr>\n",
       "      <th>115</th>\n",
       "      <td>136844</td>\n",
       "      <td>PG0480</td>\n",
       "      <td>11502.0</td>\n",
       "      <td>575100.0</td>\n",
       "      <td>EGO</td>\n",
       "      <td>2.0</td>\n",
       "      <td>2017-02-28T09:25:00Z</td>\n",
       "      <td>81</td>\n",
       "      <td>50.0</td>\n",
       "      <td>79</td>\n",
       "      <td>97</td>\n",
       "    </tr>\n",
       "  </tbody>\n",
       "</table>\n",
       "</div>"
      ],
      "text/plain": [
       "     flight_id flight_no  flight_minute_profit  money_collected  \\\n",
       "114     136887    PG0480               11904.0         595200.0   \n",
       "116     136642    PG0480               10620.0         531000.0   \n",
       "111     136823    PG0480               12408.0         620400.0   \n",
       "113     136922    PG0480               12156.0         607800.0   \n",
       "109     136888    PG0480               12522.0         626100.0   \n",
       "112     136620    PG0480               12270.0         613500.0   \n",
       "117     136807    PG0480               10620.0         531000.0   \n",
       "115     136844    PG0480               11502.0         575100.0   \n",
       "\n",
       "    arrival_airport  date_part   scheduled_departure  occupancy  \\\n",
       "114             EGO        5.0  2017-01-20T09:25:00Z         80   \n",
       "116             EGO        1.0  2017-01-30T09:25:00Z         65   \n",
       "111             EGO        0.0  2017-02-05T09:25:00Z         80   \n",
       "113             EGO        6.0  2017-02-11T09:25:00Z         78   \n",
       "109             EGO        2.0  2017-02-14T09:25:00Z         81   \n",
       "112             EGO        5.0  2017-02-17T09:25:00Z         81   \n",
       "117             EGO        4.0  2017-02-23T09:25:00Z         70   \n",
       "115             EGO        2.0  2017-02-28T09:25:00Z         81   \n",
       "\n",
       "     flight_duaration  count_seats_sold  count_seats_total  \n",
       "114              50.0                78                 97  \n",
       "116              50.0                64                 97  \n",
       "111              50.0                78                 97  \n",
       "113              50.0                76                 97  \n",
       "109              50.0                79                 97  \n",
       "112              50.0                79                 97  \n",
       "117              50.0                68                 97  \n",
       "115              50.0                79                 97  "
      ]
     },
     "metadata": {},
     "output_type": "display_data"
    }
   ],
   "source": [
    "sample=df.loc[(df.flight_no=='PG0480') & (df.occupancy<=81)].sort_values(by='scheduled_departure')\n",
    "display(sample)\n"
   ]
  },
  {
   "cell_type": "code",
   "execution_count": 19,
   "metadata": {},
   "outputs": [
    {
     "data": {
      "text/html": [
       "<div>\n",
       "<style scoped>\n",
       "    .dataframe tbody tr th:only-of-type {\n",
       "        vertical-align: middle;\n",
       "    }\n",
       "\n",
       "    .dataframe tbody tr th {\n",
       "        vertical-align: top;\n",
       "    }\n",
       "\n",
       "    .dataframe thead th {\n",
       "        text-align: right;\n",
       "    }\n",
       "</style>\n",
       "<table border=\"1\" class=\"dataframe\">\n",
       "  <thead>\n",
       "    <tr style=\"text-align: right;\">\n",
       "      <th></th>\n",
       "      <th>flight_id</th>\n",
       "      <th>flight_no</th>\n",
       "      <th>flight_minute_profit</th>\n",
       "      <th>money_collected</th>\n",
       "      <th>arrival_airport</th>\n",
       "      <th>date_part</th>\n",
       "      <th>scheduled_departure</th>\n",
       "      <th>occupancy</th>\n",
       "      <th>flight_duaration</th>\n",
       "      <th>count_seats_sold</th>\n",
       "      <th>count_seats_total</th>\n",
       "    </tr>\n",
       "  </thead>\n",
       "  <tbody>\n",
       "    <tr>\n",
       "      <th>114</th>\n",
       "      <td>136887</td>\n",
       "      <td>PG0480</td>\n",
       "      <td>11904.0</td>\n",
       "      <td>595200.0</td>\n",
       "      <td>EGO</td>\n",
       "      <td>5.0</td>\n",
       "      <td>2017-01-20T09:25:00Z</td>\n",
       "      <td>80</td>\n",
       "      <td>50.0</td>\n",
       "      <td>78</td>\n",
       "      <td>97</td>\n",
       "    </tr>\n",
       "    <tr>\n",
       "      <th>115</th>\n",
       "      <td>136844</td>\n",
       "      <td>PG0480</td>\n",
       "      <td>11502.0</td>\n",
       "      <td>575100.0</td>\n",
       "      <td>EGO</td>\n",
       "      <td>2.0</td>\n",
       "      <td>2017-02-28T09:25:00Z</td>\n",
       "      <td>81</td>\n",
       "      <td>50.0</td>\n",
       "      <td>79</td>\n",
       "      <td>97</td>\n",
       "    </tr>\n",
       "    <tr>\n",
       "      <th>116</th>\n",
       "      <td>136642</td>\n",
       "      <td>PG0480</td>\n",
       "      <td>10620.0</td>\n",
       "      <td>531000.0</td>\n",
       "      <td>EGO</td>\n",
       "      <td>1.0</td>\n",
       "      <td>2017-01-30T09:25:00Z</td>\n",
       "      <td>65</td>\n",
       "      <td>50.0</td>\n",
       "      <td>64</td>\n",
       "      <td>97</td>\n",
       "    </tr>\n",
       "    <tr>\n",
       "      <th>117</th>\n",
       "      <td>136807</td>\n",
       "      <td>PG0480</td>\n",
       "      <td>10620.0</td>\n",
       "      <td>531000.0</td>\n",
       "      <td>EGO</td>\n",
       "      <td>4.0</td>\n",
       "      <td>2017-02-23T09:25:00Z</td>\n",
       "      <td>70</td>\n",
       "      <td>50.0</td>\n",
       "      <td>68</td>\n",
       "      <td>97</td>\n",
       "    </tr>\n",
       "  </tbody>\n",
       "</table>\n",
       "</div>"
      ],
      "text/plain": [
       "     flight_id flight_no  flight_minute_profit  money_collected  \\\n",
       "114     136887    PG0480               11904.0         595200.0   \n",
       "115     136844    PG0480               11502.0         575100.0   \n",
       "116     136642    PG0480               10620.0         531000.0   \n",
       "117     136807    PG0480               10620.0         531000.0   \n",
       "\n",
       "    arrival_airport  date_part   scheduled_departure  occupancy  \\\n",
       "114             EGO        5.0  2017-01-20T09:25:00Z         80   \n",
       "115             EGO        2.0  2017-02-28T09:25:00Z         81   \n",
       "116             EGO        1.0  2017-01-30T09:25:00Z         65   \n",
       "117             EGO        4.0  2017-02-23T09:25:00Z         70   \n",
       "\n",
       "     flight_duaration  count_seats_sold  count_seats_total  \n",
       "114              50.0                78                 97  \n",
       "115              50.0                79                 97  \n",
       "116              50.0                64                 97  \n",
       "117              50.0                68                 97  "
      ]
     },
     "execution_count": 19,
     "metadata": {},
     "output_type": "execute_result"
    }
   ],
   "source": [
    "df[df.flight_minute_profit<12000]"
   ]
  },
  {
   "cell_type": "code",
   "execution_count": 84,
   "metadata": {},
   "outputs": [
    {
     "data": {
      "text/plain": [
       "<AxesSubplot:xlabel='scheduled_departure'>"
      ]
     },
     "execution_count": 84,
     "metadata": {},
     "output_type": "execute_result"
    },
    {
     "data": {
      "image/png": "[encoded data removed]",
      "text/plain": [
       "<Figure size 1440x504 with 1 Axes>"
      ]
     },
     "metadata": {
      "needs_background": "light"
     },
     "output_type": "display_data"
    }
   ],
   "source": [
    "df[df.flight_no=='PG0252'].groupby('scheduled_departure')[['flight_minute_profit']].mean().plot(kind = 'bar')\n"
   ]
  },
  {
   "cell_type": "code",
   "execution_count": 85,
   "metadata": {},
   "outputs": [
    {
     "data": {
      "text/plain": [
       "<AxesSubplot:xlabel='date_part'>"
      ]
     },
     "execution_count": 85,
     "metadata": {},
     "output_type": "execute_result"
    },
    {
     "data": {
      "image/png": "[encoded data removed]",
      "text/plain": [
       "<Figure size 1440x504 with 1 Axes>"
      ]
     },
     "metadata": {
      "needs_background": "light"
     },
     "output_type": "display_data"
    }
   ],
   "source": [
    "df[df.flight_no=='PG0252'].groupby('date_part')[['flight_minute_profit']].mean().plot(kind = 'bar')"
   ]
  },
  {
   "cell_type": "code",
   "execution_count": 89,
   "metadata": {},
   "outputs": [
    {
     "data": {
      "text/plain": [
       "array([<AxesSubplot:title={'center':'flight_minute_profit'}, xlabel='date_part,flight_no'>],\n",
       "      dtype=object)"
      ]
     },
     "execution_count": 89,
     "metadata": {},
     "output_type": "execute_result"
    },
    {
     "data": {
      "image/png": "[encoded data removed]",
      "text/plain": [
       "<Figure size 1440x504 with 1 Axes>"
      ]
     },
     "metadata": {
      "needs_background": "light"
     },
     "output_type": "display_data"
    }
   ],
   "source": [
    "df.groupby(['date_part','flight_no'])[['flight_minute_profit']].mean().plot(subplots = True, kind = 'bar')"
   ]
  },
  {
   "cell_type": "code",
   "execution_count": 135,
   "metadata": {},
   "outputs": [
    {
     "data": {
      "text/plain": [
       "<matplotlib.legend.Legend at 0x13a21460>"
      ]
     },
     "execution_count": 135,
     "metadata": {},
     "output_type": "execute_result"
    },
    {
     "data": {
      "image/png": "[encoded data removed]",
      "text/plain": [
       "<Figure size 720x504 with 1 Axes>"
      ]
     },
     "metadata": {
      "needs_background": "light"
     },
     "output_type": "display_data"
    }
   ],
   "source": [
    "axes=df.pivot_table(values = ['flight_minute_profit'], \n",
    "               index = 'date_part', \n",
    "               columns=['flight_no'],\n",
    "               aggfunc = 'mean').plot(kind = 'bar')\n",
    "axes.legend(loc = 3)"
   ]
  },
  {
   "cell_type": "code",
   "execution_count": 136,
   "metadata": {},
   "outputs": [
    {
     "data": {
      "text/plain": [
       "<matplotlib.legend.Legend at 0x135be610>"
      ]
     },
     "execution_count": 136,
     "metadata": {},
     "output_type": "execute_result"
    },
    {
     "data": {
      "image/png": "[encoded data removed]",
      "text/plain": [
       "<Figure size 720x504 with 1 Axes>"
      ]
     },
     "metadata": {
      "needs_background": "light"
     },
     "output_type": "display_data"
    }
   ],
   "source": [
    "axes=df.pivot_table(values = ['occupancy'], \n",
    "               index = 'date_part', \n",
    "               columns=['flight_no'],\n",
    "               aggfunc = 'mean').plot(kind = 'bar')\n",
    "axes.legend(loc = 3)"
   ]
  },
  {
   "cell_type": "code",
   "execution_count": 137,
   "metadata": {},
   "outputs": [
    {
     "data": {
      "text/plain": [
       "<matplotlib.legend.Legend at 0x1453ceb0>"
      ]
     },
     "execution_count": 137,
     "metadata": {},
     "output_type": "execute_result"
    },
    {
     "data": {
      "image/png": "[encoded data removed]",
      "text/plain": [
       "<Figure size 720x504 with 1 Axes>"
      ]
     },
     "metadata": {
      "needs_background": "light"
     },
     "output_type": "display_data"
    }
   ],
   "source": [
    "axes=df.pivot_table(values = ['money_collected'], \n",
    "               index = 'date_part', \n",
    "               columns=['flight_no'],\n",
    "               aggfunc = 'sum').plot(kind = 'bar')\n",
    "axes.legend(loc = 3)"
   ]
  },
  {
   "cell_type": "code",
   "execution_count": 23,
   "metadata": {},
   "outputs": [
    {
     "data": {
      "text/html": [
       "<div>\n",
       "<style scoped>\n",
       "    .dataframe tbody tr th:only-of-type {\n",
       "        vertical-align: middle;\n",
       "    }\n",
       "\n",
       "    .dataframe tbody tr th {\n",
       "        vertical-align: top;\n",
       "    }\n",
       "\n",
       "    .dataframe thead th {\n",
       "        text-align: right;\n",
       "    }\n",
       "</style>\n",
       "<table border=\"1\" class=\"dataframe\">\n",
       "  <thead>\n",
       "    <tr style=\"text-align: right;\">\n",
       "      <th></th>\n",
       "      <th></th>\n",
       "      <th>flight_minute_profit</th>\n",
       "      <th>money_collected</th>\n",
       "      <th>occupancy</th>\n",
       "      <th>flight_duaration</th>\n",
       "      <th>count_seats_sold</th>\n",
       "      <th>count_seats_total</th>\n",
       "    </tr>\n",
       "    <tr>\n",
       "      <th>flight_no</th>\n",
       "      <th>date_part</th>\n",
       "      <th></th>\n",
       "      <th></th>\n",
       "      <th></th>\n",
       "      <th></th>\n",
       "      <th></th>\n",
       "      <th></th>\n",
       "    </tr>\n",
       "  </thead>\n",
       "  <tbody>\n",
       "    <tr>\n",
       "      <th rowspan=\"7\" valign=\"top\">PG0252</th>\n",
       "      <th>0.0</th>\n",
       "      <td>15403.555556</td>\n",
       "      <td>1.540356e+06</td>\n",
       "      <td>80.444444</td>\n",
       "      <td>100.0</td>\n",
       "      <td>105.111111</td>\n",
       "      <td>130.0</td>\n",
       "    </tr>\n",
       "    <tr>\n",
       "      <th>1.0</th>\n",
       "      <td>16250.666667</td>\n",
       "      <td>1.625067e+06</td>\n",
       "      <td>86.111111</td>\n",
       "      <td>100.0</td>\n",
       "      <td>112.444444</td>\n",
       "      <td>130.0</td>\n",
       "    </tr>\n",
       "    <tr>\n",
       "      <th>2.0</th>\n",
       "      <td>17058.666667</td>\n",
       "      <td>1.705867e+06</td>\n",
       "      <td>90.444444</td>\n",
       "      <td>100.0</td>\n",
       "      <td>118.222222</td>\n",
       "      <td>130.0</td>\n",
       "    </tr>\n",
       "    <tr>\n",
       "      <th>3.0</th>\n",
       "      <td>16203.750000</td>\n",
       "      <td>1.620375e+06</td>\n",
       "      <td>85.500000</td>\n",
       "      <td>100.0</td>\n",
       "      <td>111.625000</td>\n",
       "      <td>130.0</td>\n",
       "    </tr>\n",
       "    <tr>\n",
       "      <th>4.0</th>\n",
       "      <td>16514.750000</td>\n",
       "      <td>1.651475e+06</td>\n",
       "      <td>87.375000</td>\n",
       "      <td>100.0</td>\n",
       "      <td>114.125000</td>\n",
       "      <td>130.0</td>\n",
       "    </tr>\n",
       "    <tr>\n",
       "      <th>5.0</th>\n",
       "      <td>16946.250000</td>\n",
       "      <td>1.694625e+06</td>\n",
       "      <td>89.000000</td>\n",
       "      <td>100.0</td>\n",
       "      <td>116.375000</td>\n",
       "      <td>130.0</td>\n",
       "    </tr>\n",
       "    <tr>\n",
       "      <th>6.0</th>\n",
       "      <td>16673.250000</td>\n",
       "      <td>1.667325e+06</td>\n",
       "      <td>87.625000</td>\n",
       "      <td>100.0</td>\n",
       "      <td>114.375000</td>\n",
       "      <td>130.0</td>\n",
       "    </tr>\n",
       "    <tr>\n",
       "      <th rowspan=\"7\" valign=\"top\">PG0480</th>\n",
       "      <th>0.0</th>\n",
       "      <td>14155.333333</td>\n",
       "      <td>7.077667e+05</td>\n",
       "      <td>91.888889</td>\n",
       "      <td>50.0</td>\n",
       "      <td>89.666667</td>\n",
       "      <td>97.0</td>\n",
       "    </tr>\n",
       "    <tr>\n",
       "      <th>1.0</th>\n",
       "      <td>13886.666667</td>\n",
       "      <td>6.943333e+05</td>\n",
       "      <td>89.888889</td>\n",
       "      <td>50.0</td>\n",
       "      <td>87.777778</td>\n",
       "      <td>97.0</td>\n",
       "    </tr>\n",
       "    <tr>\n",
       "      <th>2.0</th>\n",
       "      <td>13969.333333</td>\n",
       "      <td>6.984667e+05</td>\n",
       "      <td>91.555556</td>\n",
       "      <td>50.0</td>\n",
       "      <td>89.333333</td>\n",
       "      <td>97.0</td>\n",
       "    </tr>\n",
       "    <tr>\n",
       "      <th>3.0</th>\n",
       "      <td>15069.750000</td>\n",
       "      <td>7.534875e+05</td>\n",
       "      <td>97.500000</td>\n",
       "      <td>50.0</td>\n",
       "      <td>95.125000</td>\n",
       "      <td>97.0</td>\n",
       "    </tr>\n",
       "    <tr>\n",
       "      <th>4.0</th>\n",
       "      <td>13978.500000</td>\n",
       "      <td>6.989250e+05</td>\n",
       "      <td>91.250000</td>\n",
       "      <td>50.0</td>\n",
       "      <td>89.000000</td>\n",
       "      <td>97.0</td>\n",
       "    </tr>\n",
       "    <tr>\n",
       "      <th>5.0</th>\n",
       "      <td>14123.250000</td>\n",
       "      <td>7.061625e+05</td>\n",
       "      <td>92.125000</td>\n",
       "      <td>50.0</td>\n",
       "      <td>89.875000</td>\n",
       "      <td>97.0</td>\n",
       "    </tr>\n",
       "    <tr>\n",
       "      <th>6.0</th>\n",
       "      <td>14355.000000</td>\n",
       "      <td>7.177500e+05</td>\n",
       "      <td>93.375000</td>\n",
       "      <td>50.0</td>\n",
       "      <td>91.000000</td>\n",
       "      <td>97.0</td>\n",
       "    </tr>\n",
       "  </tbody>\n",
       "</table>\n",
       "</div>"
      ],
      "text/plain": [
       "                     flight_minute_profit  money_collected  occupancy  \\\n",
       "flight_no date_part                                                     \n",
       "PG0252    0.0                15403.555556     1.540356e+06  80.444444   \n",
       "          1.0                16250.666667     1.625067e+06  86.111111   \n",
       "          2.0                17058.666667     1.705867e+06  90.444444   \n",
       "          3.0                16203.750000     1.620375e+06  85.500000   \n",
       "          4.0                16514.750000     1.651475e+06  87.375000   \n",
       "          5.0                16946.250000     1.694625e+06  89.000000   \n",
       "          6.0                16673.250000     1.667325e+06  87.625000   \n",
       "PG0480    0.0                14155.333333     7.077667e+05  91.888889   \n",
       "          1.0                13886.666667     6.943333e+05  89.888889   \n",
       "          2.0                13969.333333     6.984667e+05  91.555556   \n",
       "          3.0                15069.750000     7.534875e+05  97.500000   \n",
       "          4.0                13978.500000     6.989250e+05  91.250000   \n",
       "          5.0                14123.250000     7.061625e+05  92.125000   \n",
       "          6.0                14355.000000     7.177500e+05  93.375000   \n",
       "\n",
       "                     flight_duaration  count_seats_sold  count_seats_total  \n",
       "flight_no date_part                                                         \n",
       "PG0252    0.0                   100.0        105.111111              130.0  \n",
       "          1.0                   100.0        112.444444              130.0  \n",
       "          2.0                   100.0        118.222222              130.0  \n",
       "          3.0                   100.0        111.625000              130.0  \n",
       "          4.0                   100.0        114.125000              130.0  \n",
       "          5.0                   100.0        116.375000              130.0  \n",
       "          6.0                   100.0        114.375000              130.0  \n",
       "PG0480    0.0                    50.0         89.666667               97.0  \n",
       "          1.0                    50.0         87.777778               97.0  \n",
       "          2.0                    50.0         89.333333               97.0  \n",
       "          3.0                    50.0         95.125000               97.0  \n",
       "          4.0                    50.0         89.000000               97.0  \n",
       "          5.0                    50.0         89.875000               97.0  \n",
       "          6.0                    50.0         91.000000               97.0  "
      ]
     },
     "metadata": {},
     "output_type": "display_data"
    }
   ],
   "source": [
    "fl=df.groupby(['flight_no', 'date_part'])[[ 'flight_minute_profit', 'money_collected',\n",
    "        'occupancy', 'flight_duaration', 'count_seats_sold', 'count_seats_total']].mean()\n",
    "display(fl)"
   ]
  },
  {
   "cell_type": "code",
   "execution_count": null,
   "metadata": {},
   "outputs": [],
   "source": [
    "#анализ прибыльности/убыточности каких-то особых дат или дней недели ничего особенного не дает.\n",
    "#для рейса PG0480 являются менее прибыльными последние числа месяца(январь, февраль) (для декабря данных нет)\n",
    "#а для рейса PG0252 по воскресеньям наблюдается наиболее низкая заполняемость самолета (80%).\n",
    "#возможно, если отменить воскресные рейсы PG0252, это повысит заполняемость других дней недели и в целом окажется выгодным."
   ]
  },
  {
   "cell_type": "code",
   "execution_count": 27,
   "metadata": {},
   "outputs": [
    {
     "data": {
      "text/html": [
       "<div>\n",
       "<style scoped>\n",
       "    .dataframe tbody tr th:only-of-type {\n",
       "        vertical-align: middle;\n",
       "    }\n",
       "\n",
       "    .dataframe tbody tr th {\n",
       "        vertical-align: top;\n",
       "    }\n",
       "\n",
       "    .dataframe thead th {\n",
       "        text-align: right;\n",
       "    }\n",
       "</style>\n",
       "<table border=\"1\" class=\"dataframe\">\n",
       "  <thead>\n",
       "    <tr style=\"text-align: right;\">\n",
       "      <th></th>\n",
       "      <th></th>\n",
       "      <th>money_collected</th>\n",
       "      <th>flight_duaration</th>\n",
       "      <th>count_seats_sold</th>\n",
       "      <th>count_seats_total</th>\n",
       "    </tr>\n",
       "    <tr>\n",
       "      <th>flight_no</th>\n",
       "      <th>date_part</th>\n",
       "      <th></th>\n",
       "      <th></th>\n",
       "      <th></th>\n",
       "      <th></th>\n",
       "    </tr>\n",
       "  </thead>\n",
       "  <tbody>\n",
       "    <tr>\n",
       "      <th rowspan=\"7\" valign=\"top\">PG0252</th>\n",
       "      <th>0.0</th>\n",
       "      <td>13863200.0</td>\n",
       "      <td>900.0</td>\n",
       "      <td>946</td>\n",
       "      <td>1170</td>\n",
       "    </tr>\n",
       "    <tr>\n",
       "      <th>1.0</th>\n",
       "      <td>14625600.0</td>\n",
       "      <td>900.0</td>\n",
       "      <td>1012</td>\n",
       "      <td>1170</td>\n",
       "    </tr>\n",
       "    <tr>\n",
       "      <th>2.0</th>\n",
       "      <td>15352800.0</td>\n",
       "      <td>900.0</td>\n",
       "      <td>1064</td>\n",
       "      <td>1170</td>\n",
       "    </tr>\n",
       "    <tr>\n",
       "      <th>3.0</th>\n",
       "      <td>12963000.0</td>\n",
       "      <td>800.0</td>\n",
       "      <td>893</td>\n",
       "      <td>1040</td>\n",
       "    </tr>\n",
       "    <tr>\n",
       "      <th>4.0</th>\n",
       "      <td>13211800.0</td>\n",
       "      <td>800.0</td>\n",
       "      <td>913</td>\n",
       "      <td>1040</td>\n",
       "    </tr>\n",
       "    <tr>\n",
       "      <th>5.0</th>\n",
       "      <td>13557000.0</td>\n",
       "      <td>800.0</td>\n",
       "      <td>931</td>\n",
       "      <td>1040</td>\n",
       "    </tr>\n",
       "    <tr>\n",
       "      <th>6.0</th>\n",
       "      <td>13338600.0</td>\n",
       "      <td>800.0</td>\n",
       "      <td>915</td>\n",
       "      <td>1040</td>\n",
       "    </tr>\n",
       "    <tr>\n",
       "      <th rowspan=\"7\" valign=\"top\">PG0480</th>\n",
       "      <th>0.0</th>\n",
       "      <td>6369900.0</td>\n",
       "      <td>450.0</td>\n",
       "      <td>807</td>\n",
       "      <td>873</td>\n",
       "    </tr>\n",
       "    <tr>\n",
       "      <th>1.0</th>\n",
       "      <td>6249000.0</td>\n",
       "      <td>450.0</td>\n",
       "      <td>790</td>\n",
       "      <td>873</td>\n",
       "    </tr>\n",
       "    <tr>\n",
       "      <th>2.0</th>\n",
       "      <td>6286200.0</td>\n",
       "      <td>450.0</td>\n",
       "      <td>804</td>\n",
       "      <td>873</td>\n",
       "    </tr>\n",
       "    <tr>\n",
       "      <th>3.0</th>\n",
       "      <td>6027900.0</td>\n",
       "      <td>400.0</td>\n",
       "      <td>761</td>\n",
       "      <td>776</td>\n",
       "    </tr>\n",
       "    <tr>\n",
       "      <th>4.0</th>\n",
       "      <td>5591400.0</td>\n",
       "      <td>400.0</td>\n",
       "      <td>712</td>\n",
       "      <td>776</td>\n",
       "    </tr>\n",
       "    <tr>\n",
       "      <th>5.0</th>\n",
       "      <td>5649300.0</td>\n",
       "      <td>400.0</td>\n",
       "      <td>719</td>\n",
       "      <td>776</td>\n",
       "    </tr>\n",
       "    <tr>\n",
       "      <th>6.0</th>\n",
       "      <td>5742000.0</td>\n",
       "      <td>400.0</td>\n",
       "      <td>728</td>\n",
       "      <td>776</td>\n",
       "    </tr>\n",
       "  </tbody>\n",
       "</table>\n",
       "</div>"
      ],
      "text/plain": [
       "                     money_collected  flight_duaration  count_seats_sold  \\\n",
       "flight_no date_part                                                        \n",
       "PG0252    0.0             13863200.0             900.0               946   \n",
       "          1.0             14625600.0             900.0              1012   \n",
       "          2.0             15352800.0             900.0              1064   \n",
       "          3.0             12963000.0             800.0               893   \n",
       "          4.0             13211800.0             800.0               913   \n",
       "          5.0             13557000.0             800.0               931   \n",
       "          6.0             13338600.0             800.0               915   \n",
       "PG0480    0.0              6369900.0             450.0               807   \n",
       "          1.0              6249000.0             450.0               790   \n",
       "          2.0              6286200.0             450.0               804   \n",
       "          3.0              6027900.0             400.0               761   \n",
       "          4.0              5591400.0             400.0               712   \n",
       "          5.0              5649300.0             400.0               719   \n",
       "          6.0              5742000.0             400.0               728   \n",
       "\n",
       "                     count_seats_total  \n",
       "flight_no date_part                     \n",
       "PG0252    0.0                     1170  \n",
       "          1.0                     1170  \n",
       "          2.0                     1170  \n",
       "          3.0                     1040  \n",
       "          4.0                     1040  \n",
       "          5.0                     1040  \n",
       "          6.0                     1040  \n",
       "PG0480    0.0                      873  \n",
       "          1.0                      873  \n",
       "          2.0                      873  \n",
       "          3.0                      776  \n",
       "          4.0                      776  \n",
       "          5.0                      776  \n",
       "          6.0                      776  "
      ]
     },
     "metadata": {},
     "output_type": "display_data"
    }
   ],
   "source": [
    "fl=df.groupby(['flight_no', 'date_part'])[[ 'money_collected',\n",
    "        'flight_duaration', 'count_seats_sold', 'count_seats_total']].sum()\n",
    "display(fl)"
   ]
  },
  {
   "cell_type": "code",
   "execution_count": 94,
   "metadata": {},
   "outputs": [
    {
     "data": {
      "image/png": "[encoded data removed]",
      "text/plain": [
       "<Figure size 720x504 with 1 Axes>"
      ]
     },
     "metadata": {
      "needs_background": "light"
     },
     "output_type": "display_data"
    }
   ],
   "source": [
    "plt.rcParams['figure.figsize'] = (10,7)\n",
    "for x in (df['flight_no'].value_counts()).index:\n",
    "    df['flight_minute_profit'][df['flight_no'] == x].hist(bins=50)\n",
    "plt.show()"
   ]
  },
  {
   "cell_type": "code",
   "execution_count": 11,
   "metadata": {},
   "outputs": [
    {
     "data": {
      "text/plain": [
       "<AxesSubplot:>"
      ]
     },
     "execution_count": 11,
     "metadata": {},
     "output_type": "execute_result"
    },
    {
     "data": {
      "image/png": "[encoded data removed]",
      "text/plain": [
       "<Figure size 1080x720 with 2 Axes>"
      ]
     },
     "metadata": {
      "needs_background": "light"
     },
     "output_type": "display_data"
    }
   ],
   "source": [
    "plt.rcParams['figure.figsize'] = (15,10)\n",
    "sns.heatmap(df.corr(),)"
   ]
  },
  {
   "cell_type": "code",
   "execution_count": 12,
   "metadata": {},
   "outputs": [
    {
     "data": {
      "text/plain": [
       "Index(['flight_id', 'flight_no', 'flight_minute_profit', 'money_collected',\n",
       "       'arrival_airport', 'date_part', 'scheduled_departure', 'occupancy',\n",
       "       'flight_duaration', 'count_seats_sold', 'count_seats_total'],\n",
       "      dtype='object')"
      ]
     },
     "execution_count": 12,
     "metadata": {},
     "output_type": "execute_result"
    }
   ],
   "source": [
    "df.columns"
   ]
  },
  {
   "cell_type": "code",
   "execution_count": 26,
   "metadata": {},
   "outputs": [
    {
     "data": {
      "image/png": "[encoded data removed]",
      "text/plain": [
       "<Figure size 720x720 with 20 Axes>"
      ]
     },
     "metadata": {
      "needs_background": "light"
     },
     "output_type": "display_data"
    }
   ],
   "source": [
    "cols=['flight_no', 'flight_minute_profit',\n",
    "       'date_part', 'occupancy',\n",
    "       'flight_duaration']\n",
    "sns.pairplot(df[cols], kind='reg');"
   ]
  }
 ],
 "metadata": {
  "kernelspec": {
   "display_name": "Python 3",
   "language": "python",
   "name": "python3"
  },
  "language_info": {
   "codemirror_mode": {
    "name": "ipython",
    "version": 3
   },
   "file_extension": ".py",
   "mimetype": "text/x-python",
   "name": "python",
   "nbconvert_exporter": "python",
   "pygments_lexer": "ipython3",
   "version": "3.8.5"
  }
 },
 "nbformat": 4,
 "nbformat_minor": 4
}
